{
 "cells": [
  {
   "cell_type": "markdown",
   "id": "09632de8",
   "metadata": {},
   "source": [
    "# NY State Tuition Assistant Program (TAP) 2019\n",
    "### TAP is a student financial aid grant program. This dataset shows TAP for elegible NY residents for the 2019 academic year."
   ]
  },
  {
   "cell_type": "code",
   "execution_count": 70,
   "id": "4a5a0bb4",
   "metadata": {},
   "outputs": [],
   "source": [
    "import pandas as pd\n",
    "import matplotlib.pyplot as plt\n",
    "import numpy as np\n",
    "import seaborn as sns "
   ]
  },
  {
   "cell_type": "code",
   "execution_count": 7,
   "id": "261819a1",
   "metadata": {},
   "outputs": [],
   "source": [
    "df=pd.read_csv('https://data.ny.gov/api/views/2t78-bs45/rows.csv?accessType=DOWNLOAD')"
   ]
  },
  {
   "cell_type": "code",
   "execution_count": 8,
   "id": "e8365221",
   "metadata": {},
   "outputs": [
    {
     "data": {
      "text/html": [
       "<div>\n",
       "<style scoped>\n",
       "    .dataframe tbody tr th:only-of-type {\n",
       "        vertical-align: middle;\n",
       "    }\n",
       "\n",
       "    .dataframe tbody tr th {\n",
       "        vertical-align: top;\n",
       "    }\n",
       "\n",
       "    .dataframe thead th {\n",
       "        text-align: right;\n",
       "    }\n",
       "</style>\n",
       "<table border=\"1\" class=\"dataframe\">\n",
       "  <thead>\n",
       "    <tr style=\"text-align: right;\">\n",
       "      <th></th>\n",
       "      <th>Academic Year</th>\n",
       "      <th>Level</th>\n",
       "      <th>TAP Level of Study</th>\n",
       "      <th>Sector Type</th>\n",
       "      <th>TAP Sector Group</th>\n",
       "      <th>Recipient Age Group</th>\n",
       "      <th>TAP Financial Status</th>\n",
       "      <th>TAP Award Schedule</th>\n",
       "      <th>TAP Degree or NonDegree</th>\n",
       "      <th>TAP Schedule Letter</th>\n",
       "      <th>Income by $1,000 Range</th>\n",
       "      <th>Income by $5,000 Range</th>\n",
       "      <th>Income by $10,000 Range</th>\n",
       "      <th>TAP Recipient  Headcount</th>\n",
       "      <th>TAP Recipient FTEs</th>\n",
       "      <th>TAP Recipient Dollars</th>\n",
       "    </tr>\n",
       "  </thead>\n",
       "  <tbody>\n",
       "    <tr>\n",
       "      <th>0</th>\n",
       "      <td>2019</td>\n",
       "      <td>U</td>\n",
       "      <td>5 yr Undergrad</td>\n",
       "      <td>PUBLIC</td>\n",
       "      <td>3-SUNY SO</td>\n",
       "      <td>under age 22</td>\n",
       "      <td>Financial_Dependent</td>\n",
       "      <td>Dependent_Schedule</td>\n",
       "      <td>Degree</td>\n",
       "      <td>E</td>\n",
       "      <td>$37,001 to $38,000</td>\n",
       "      <td>$35,001 to $40,000</td>\n",
       "      <td>$30,001 to $40,000</td>\n",
       "      <td>6</td>\n",
       "      <td>5.87</td>\n",
       "      <td>10328.37</td>\n",
       "    </tr>\n",
       "    <tr>\n",
       "      <th>1</th>\n",
       "      <td>2019</td>\n",
       "      <td>U</td>\n",
       "      <td>4 yr Undergrad</td>\n",
       "      <td>PUBLIC</td>\n",
       "      <td>3-SUNY SO</td>\n",
       "      <td>age 26 - 35</td>\n",
       "      <td>Financial_Independent</td>\n",
       "      <td>Dependent_Schedule</td>\n",
       "      <td>Degree</td>\n",
       "      <td>E</td>\n",
       "      <td>$21,001 to $22,000</td>\n",
       "      <td>$20,001 to $25,000</td>\n",
       "      <td>$20,001 to $30,000</td>\n",
       "      <td>20</td>\n",
       "      <td>14.34</td>\n",
       "      <td>52904.25</td>\n",
       "    </tr>\n",
       "    <tr>\n",
       "      <th>2</th>\n",
       "      <td>2019</td>\n",
       "      <td>U</td>\n",
       "      <td>4 yr Undergrad</td>\n",
       "      <td>PRIVATE</td>\n",
       "      <td>5-INDEPENDENT</td>\n",
       "      <td>age 36 - 50</td>\n",
       "      <td>Financial_Independent</td>\n",
       "      <td>Dependent_Schedule</td>\n",
       "      <td>Degree</td>\n",
       "      <td>D</td>\n",
       "      <td>$26,001 to $27,000</td>\n",
       "      <td>$25,001 to $30,000</td>\n",
       "      <td>$20,001 to $30,000</td>\n",
       "      <td>2</td>\n",
       "      <td>1.80</td>\n",
       "      <td>3959.14</td>\n",
       "    </tr>\n",
       "    <tr>\n",
       "      <th>3</th>\n",
       "      <td>2019</td>\n",
       "      <td>U</td>\n",
       "      <td>2 yr Undergrad</td>\n",
       "      <td>PUBLIC</td>\n",
       "      <td>2-CUNY CC</td>\n",
       "      <td>over age 50</td>\n",
       "      <td>Financial_Independent</td>\n",
       "      <td>Independent_Schedule</td>\n",
       "      <td>Degree</td>\n",
       "      <td>K</td>\n",
       "      <td>$ 7,001 to $ 8,000</td>\n",
       "      <td>$ 5,001 to $10,000</td>\n",
       "      <td>$     0 to $10,000</td>\n",
       "      <td>1</td>\n",
       "      <td>0.53</td>\n",
       "      <td>605.75</td>\n",
       "    </tr>\n",
       "    <tr>\n",
       "      <th>4</th>\n",
       "      <td>2019</td>\n",
       "      <td>U</td>\n",
       "      <td>4 yr Undergrad</td>\n",
       "      <td>PRIVATE</td>\n",
       "      <td>5-INDEPENDENT</td>\n",
       "      <td>under age 22</td>\n",
       "      <td>Financial_Dependent</td>\n",
       "      <td>Dependent_Schedule</td>\n",
       "      <td>Degree</td>\n",
       "      <td>E</td>\n",
       "      <td>$65,001 to $66,000</td>\n",
       "      <td>$65,001 to $70,000</td>\n",
       "      <td>$60,001 to $70,000</td>\n",
       "      <td>372</td>\n",
       "      <td>355.99</td>\n",
       "      <td>177996.19</td>\n",
       "    </tr>\n",
       "  </tbody>\n",
       "</table>\n",
       "</div>"
      ],
      "text/plain": [
       "   Academic Year Level TAP Level of Study Sector Type TAP Sector Group  \\\n",
       "0           2019     U     5 yr Undergrad      PUBLIC        3-SUNY SO   \n",
       "1           2019     U     4 yr Undergrad      PUBLIC        3-SUNY SO   \n",
       "2           2019     U     4 yr Undergrad     PRIVATE    5-INDEPENDENT   \n",
       "3           2019     U     2 yr Undergrad      PUBLIC        2-CUNY CC   \n",
       "4           2019     U     4 yr Undergrad     PRIVATE    5-INDEPENDENT   \n",
       "\n",
       "  Recipient Age Group   TAP Financial Status    TAP Award Schedule  \\\n",
       "0        under age 22    Financial_Dependent    Dependent_Schedule   \n",
       "1         age 26 - 35  Financial_Independent    Dependent_Schedule   \n",
       "2         age 36 - 50  Financial_Independent    Dependent_Schedule   \n",
       "3         over age 50  Financial_Independent  Independent_Schedule   \n",
       "4        under age 22    Financial_Dependent    Dependent_Schedule   \n",
       "\n",
       "  TAP Degree or NonDegree TAP Schedule Letter Income by $1,000 Range  \\\n",
       "0                  Degree                   E     $37,001 to $38,000   \n",
       "1                  Degree                   E     $21,001 to $22,000   \n",
       "2                  Degree                   D     $26,001 to $27,000   \n",
       "3                  Degree                   K     $ 7,001 to $ 8,000   \n",
       "4                  Degree                   E     $65,001 to $66,000   \n",
       "\n",
       "  Income by $5,000 Range Income by $10,000 Range  TAP Recipient  Headcount  \\\n",
       "0     $35,001 to $40,000      $30,001 to $40,000                         6   \n",
       "1     $20,001 to $25,000      $20,001 to $30,000                        20   \n",
       "2     $25,001 to $30,000      $20,001 to $30,000                         2   \n",
       "3     $ 5,001 to $10,000      $     0 to $10,000                         1   \n",
       "4     $65,001 to $70,000      $60,001 to $70,000                       372   \n",
       "\n",
       "   TAP Recipient FTEs  TAP Recipient Dollars  \n",
       "0                5.87               10328.37  \n",
       "1               14.34               52904.25  \n",
       "2                1.80                3959.14  \n",
       "3                0.53                 605.75  \n",
       "4              355.99              177996.19  "
      ]
     },
     "execution_count": 8,
     "metadata": {},
     "output_type": "execute_result"
    }
   ],
   "source": [
    "df.head()"
   ]
  },
  {
   "cell_type": "code",
   "execution_count": 9,
   "id": "0e3786ec",
   "metadata": {},
   "outputs": [],
   "source": [
    "df.drop(['Academic Year','Level','Income by $5,000 Range','Income by $10,000 Range',],axis=1,inplace=True)"
   ]
  },
  {
   "cell_type": "markdown",
   "id": "30a8ccc8",
   "metadata": {},
   "source": [
    "Dropped some columns from the dataset that seemed reduntant. "
   ]
  },
  {
   "cell_type": "code",
   "execution_count": 10,
   "id": "9067c0db",
   "metadata": {},
   "outputs": [
    {
     "data": {
      "text/html": [
       "<div>\n",
       "<style scoped>\n",
       "    .dataframe tbody tr th:only-of-type {\n",
       "        vertical-align: middle;\n",
       "    }\n",
       "\n",
       "    .dataframe tbody tr th {\n",
       "        vertical-align: top;\n",
       "    }\n",
       "\n",
       "    .dataframe thead th {\n",
       "        text-align: right;\n",
       "    }\n",
       "</style>\n",
       "<table border=\"1\" class=\"dataframe\">\n",
       "  <thead>\n",
       "    <tr style=\"text-align: right;\">\n",
       "      <th></th>\n",
       "      <th>TAP Level of Study</th>\n",
       "      <th>Sector Type</th>\n",
       "      <th>TAP Sector Group</th>\n",
       "      <th>Recipient Age Group</th>\n",
       "      <th>TAP Financial Status</th>\n",
       "      <th>TAP Award Schedule</th>\n",
       "      <th>TAP Degree or NonDegree</th>\n",
       "      <th>TAP Schedule Letter</th>\n",
       "      <th>Income by $1,000 Range</th>\n",
       "      <th>TAP Recipient  Headcount</th>\n",
       "      <th>TAP Recipient FTEs</th>\n",
       "      <th>TAP Recipient Dollars</th>\n",
       "    </tr>\n",
       "  </thead>\n",
       "  <tbody>\n",
       "    <tr>\n",
       "      <th>227755</th>\n",
       "      <td>2 yr Undergrad</td>\n",
       "      <td>PUBLIC</td>\n",
       "      <td>1-CUNY SR</td>\n",
       "      <td>age 26 - 35</td>\n",
       "      <td>Financial_Independent</td>\n",
       "      <td>Dependent_Schedule</td>\n",
       "      <td>Degree</td>\n",
       "      <td>D</td>\n",
       "      <td>$54,001 to $55,000</td>\n",
       "      <td>1</td>\n",
       "      <td>0.75</td>\n",
       "      <td>318.75</td>\n",
       "    </tr>\n",
       "    <tr>\n",
       "      <th>227756</th>\n",
       "      <td>2 yr Undergrad</td>\n",
       "      <td>PUBLIC</td>\n",
       "      <td>2-CUNY CC</td>\n",
       "      <td>under age 22</td>\n",
       "      <td>Financial_Dependent</td>\n",
       "      <td>Dependent_Schedule</td>\n",
       "      <td>Degree</td>\n",
       "      <td>E</td>\n",
       "      <td>$44,001 to $45,000</td>\n",
       "      <td>27</td>\n",
       "      <td>21.50</td>\n",
       "      <td>9137.50</td>\n",
       "    </tr>\n",
       "    <tr>\n",
       "      <th>227757</th>\n",
       "      <td>2 yr Undergrad</td>\n",
       "      <td>PUBLIC</td>\n",
       "      <td>4-SUNY CC</td>\n",
       "      <td>age 26 - 35</td>\n",
       "      <td>Financial_Dependent</td>\n",
       "      <td>Dependent_Schedule</td>\n",
       "      <td>Degree</td>\n",
       "      <td>D</td>\n",
       "      <td>$33,001 to $34,000</td>\n",
       "      <td>2</td>\n",
       "      <td>1.00</td>\n",
       "      <td>425.00</td>\n",
       "    </tr>\n",
       "    <tr>\n",
       "      <th>227758</th>\n",
       "      <td>2 yr Undergrad</td>\n",
       "      <td>PRIVATE</td>\n",
       "      <td>8-OTHER</td>\n",
       "      <td>age 26 - 35</td>\n",
       "      <td>Financial_Independent</td>\n",
       "      <td>Dependent_Schedule</td>\n",
       "      <td>Degree</td>\n",
       "      <td>E</td>\n",
       "      <td>$24,001 to $25,000</td>\n",
       "      <td>1</td>\n",
       "      <td>0.33</td>\n",
       "      <td>1067.33</td>\n",
       "    </tr>\n",
       "    <tr>\n",
       "      <th>227759</th>\n",
       "      <td>4 yr Undergrad</td>\n",
       "      <td>PUBLIC</td>\n",
       "      <td>1-CUNY SR</td>\n",
       "      <td>age 36 - 50</td>\n",
       "      <td>Financial_Independent</td>\n",
       "      <td>Dependent_Schedule</td>\n",
       "      <td>Degree</td>\n",
       "      <td>A</td>\n",
       "      <td>$ 5,001 to $ 6,000</td>\n",
       "      <td>13</td>\n",
       "      <td>7.67</td>\n",
       "      <td>22170.60</td>\n",
       "    </tr>\n",
       "  </tbody>\n",
       "</table>\n",
       "</div>"
      ],
      "text/plain": [
       "       TAP Level of Study Sector Type TAP Sector Group Recipient Age Group  \\\n",
       "227755     2 yr Undergrad      PUBLIC        1-CUNY SR         age 26 - 35   \n",
       "227756     2 yr Undergrad      PUBLIC        2-CUNY CC        under age 22   \n",
       "227757     2 yr Undergrad      PUBLIC        4-SUNY CC         age 26 - 35   \n",
       "227758     2 yr Undergrad     PRIVATE          8-OTHER         age 26 - 35   \n",
       "227759     4 yr Undergrad      PUBLIC        1-CUNY SR         age 36 - 50   \n",
       "\n",
       "         TAP Financial Status  TAP Award Schedule TAP Degree or NonDegree  \\\n",
       "227755  Financial_Independent  Dependent_Schedule                  Degree   \n",
       "227756    Financial_Dependent  Dependent_Schedule                  Degree   \n",
       "227757    Financial_Dependent  Dependent_Schedule                  Degree   \n",
       "227758  Financial_Independent  Dependent_Schedule                  Degree   \n",
       "227759  Financial_Independent  Dependent_Schedule                  Degree   \n",
       "\n",
       "       TAP Schedule Letter Income by $1,000 Range  TAP Recipient  Headcount  \\\n",
       "227755                   D     $54,001 to $55,000                         1   \n",
       "227756                   E     $44,001 to $45,000                        27   \n",
       "227757                   D     $33,001 to $34,000                         2   \n",
       "227758                   E     $24,001 to $25,000                         1   \n",
       "227759                   A     $ 5,001 to $ 6,000                        13   \n",
       "\n",
       "        TAP Recipient FTEs  TAP Recipient Dollars  \n",
       "227755                0.75                 318.75  \n",
       "227756               21.50                9137.50  \n",
       "227757                1.00                 425.00  \n",
       "227758                0.33                1067.33  \n",
       "227759                7.67               22170.60  "
      ]
     },
     "execution_count": 10,
     "metadata": {},
     "output_type": "execute_result"
    }
   ],
   "source": [
    "df.tail()"
   ]
  },
  {
   "cell_type": "code",
   "execution_count": 58,
   "id": "5dc0afcb",
   "metadata": {},
   "outputs": [
    {
     "name": "stdout",
     "output_type": "stream",
     "text": [
      "              count  percentage\n",
      "Sector Type                    \n",
      "PRIVATE      100409       44.09\n",
      "PUBLIC       127351       55.91\n"
     ]
    },
    {
     "data": {
      "text/plain": [
       "<AxesSubplot:xlabel='Sector Type'>"
      ]
     },
     "execution_count": 58,
     "metadata": {},
     "output_type": "execute_result"
    },
    {
     "data": {
      "image/png": "[encoded data removed]",
      "text/plain": [
       "<Figure size 432x288 with 1 Axes>"
      ]
     },
     "metadata": {
      "needs_background": "light"
     },
     "output_type": "display_data"
    }
   ],
   "source": [
    "df1_sector_type=df.groupby(['Sector Type']).size().to_frame('count')\n",
    "df1_sector_type['percentage']=round(df1_sector_type['count'].div(227760).mul(100),2)\n",
    "print(df1_sector_type)\n",
    "df1_sector_type.plot.bar()"
   ]
  },
  {
   "cell_type": "markdown",
   "id": "0adc640e",
   "metadata": {},
   "source": [
    "It shows that more number of public sector institutes,than private sector institutes, have enrolled NY state TAP recepients for undergrade degree programs. "
   ]
  },
  {
   "cell_type": "code",
   "execution_count": 62,
   "id": "6c5f01f0",
   "metadata": {},
   "outputs": [
    {
     "name": "stdout",
     "output_type": "stream",
     "text": [
      "Total amount of $ 17090549231.0 under TAP financial aid grant has been awarded to eligible NY state residents for the academic year 2019.\n"
     ]
    }
   ],
   "source": [
    "total_grant=df['TAP Recipient Dollars'].sum().round()\n",
    "print('Total amount of $ {} under TAP financial aid grant has been awarded to eligible NY state residents for the academic year 2019.'.format(total_grant))"
   ]
  },
  {
   "cell_type": "code",
   "execution_count": 66,
   "id": "b40aef9f",
   "metadata": {},
   "outputs": [],
   "source": [
    "import scipy.stats as st"
   ]
  },
  {
   "cell_type": "code",
   "execution_count": 74,
   "id": "1d9399aa",
   "metadata": {},
   "outputs": [
    {
     "data": {
      "text/html": [
       "<div>\n",
       "<style scoped>\n",
       "    .dataframe tbody tr th:only-of-type {\n",
       "        vertical-align: middle;\n",
       "    }\n",
       "\n",
       "    .dataframe tbody tr th {\n",
       "        vertical-align: top;\n",
       "    }\n",
       "\n",
       "    .dataframe thead th {\n",
       "        text-align: right;\n",
       "    }\n",
       "</style>\n",
       "<table border=\"1\" class=\"dataframe\">\n",
       "  <thead>\n",
       "    <tr style=\"text-align: right;\">\n",
       "      <th></th>\n",
       "      <th>TAP Recipient  Headcount</th>\n",
       "      <th>TAP Recipient FTEs</th>\n",
       "      <th>TAP Recipient Dollars</th>\n",
       "    </tr>\n",
       "  </thead>\n",
       "  <tbody>\n",
       "    <tr>\n",
       "      <th>TAP Recipient  Headcount</th>\n",
       "      <td>1.000000</td>\n",
       "      <td>0.995266</td>\n",
       "      <td>0.936353</td>\n",
       "    </tr>\n",
       "    <tr>\n",
       "      <th>TAP Recipient FTEs</th>\n",
       "      <td>0.995266</td>\n",
       "      <td>1.000000</td>\n",
       "      <td>0.943362</td>\n",
       "    </tr>\n",
       "    <tr>\n",
       "      <th>TAP Recipient Dollars</th>\n",
       "      <td>0.936353</td>\n",
       "      <td>0.943362</td>\n",
       "      <td>1.000000</td>\n",
       "    </tr>\n",
       "  </tbody>\n",
       "</table>\n",
       "</div>"
      ],
      "text/plain": [
       "                          TAP Recipient  Headcount  TAP Recipient FTEs  \\\n",
       "TAP Recipient  Headcount                  1.000000            0.995266   \n",
       "TAP Recipient FTEs                        0.995266            1.000000   \n",
       "TAP Recipient Dollars                     0.936353            0.943362   \n",
       "\n",
       "                          TAP Recipient Dollars  \n",
       "TAP Recipient  Headcount               0.936353  \n",
       "TAP Recipient FTEs                     0.943362  \n",
       "TAP Recipient Dollars                  1.000000  "
      ]
     },
     "execution_count": 74,
     "metadata": {},
     "output_type": "execute_result"
    }
   ],
   "source": [
    "df.corr()"
   ]
  },
  {
   "cell_type": "code",
   "execution_count": 71,
   "id": "4a4a049a",
   "metadata": {},
   "outputs": [
    {
     "data": {
      "text/plain": [
       "<AxesSubplot:>"
      ]
     },
     "execution_count": 71,
     "metadata": {},
     "output_type": "execute_result"
    },
    {
     "data": {
      "image/png": "[encoded data removed]",
      "text/plain": [
       "<Figure size 432x288 with 2 Axes>"
      ]
     },
     "metadata": {
      "needs_background": "light"
     },
     "output_type": "display_data"
    }
   ],
   "source": [
    "sns.heatmap(df.corr())"
   ]
  },
  {
   "cell_type": "markdown",
   "id": "4e39b1fc",
   "metadata": {},
   "source": [
    "The heatmap and the table show correlation amoung variables that have numerical values in the dataset. The variables have positive correlation -  more number of grant recipients leading to larger grant amount and vice-versa, similarly in the cases of correlation between grant dollar amount and number of students enrolled in full-time and part-time degree programs (i.e; TAP Recipient FTEs)."
   ]
  },
  {
   "cell_type": "code",
   "execution_count": 77,
   "id": "ade5d450",
   "metadata": {},
   "outputs": [
    {
     "ename": "NameError",
     "evalue": "name 'data' is not defined",
     "output_type": "error",
     "traceback": [
      "\u001b[0;31m---------------------------------------------------------------------------\u001b[0m",
      "\u001b[0;31mNameError\u001b[0m                                 Traceback (most recent call last)",
      "\u001b[0;32m<ipython-input-77-5e8b187b8d4b>\u001b[0m in \u001b[0;36m<module>\u001b[0;34m\u001b[0m\n\u001b[1;32m      1\u001b[0m \u001b[0mplt\u001b[0m\u001b[0;34m.\u001b[0m\u001b[0mfigure\u001b[0m\u001b[0;34m(\u001b[0m\u001b[0mfigsize\u001b[0m\u001b[0;34m=\u001b[0m\u001b[0;34m(\u001b[0m\u001b[0;36m15\u001b[0m\u001b[0;34m,\u001b[0m\u001b[0;36m8\u001b[0m\u001b[0;34m)\u001b[0m\u001b[0;34m)\u001b[0m\u001b[0;34m\u001b[0m\u001b[0;34m\u001b[0m\u001b[0m\n\u001b[1;32m      2\u001b[0m \u001b[0mplt\u001b[0m\u001b[0;34m.\u001b[0m\u001b[0msubplot\u001b[0m\u001b[0;34m(\u001b[0m\u001b[0;36m231\u001b[0m\u001b[0;34m)\u001b[0m\u001b[0;34m\u001b[0m\u001b[0;34m\u001b[0m\u001b[0m\n\u001b[0;32m----> 3\u001b[0;31m \u001b[0msns\u001b[0m\u001b[0;34m.\u001b[0m\u001b[0mscatterplot\u001b[0m\u001b[0;34m(\u001b[0m\u001b[0mdata\u001b[0m\u001b[0;34m[\u001b[0m\u001b[0;34m'TAP Recipient Headcount'\u001b[0m\u001b[0;34m]\u001b[0m\u001b[0;34m,\u001b[0m\u001b[0mdata\u001b[0m\u001b[0;34m[\u001b[0m\u001b[0;34m'TAP Recipient FTEs'\u001b[0m\u001b[0;34m]\u001b[0m\u001b[0;34m)\u001b[0m\u001b[0;34m\u001b[0m\u001b[0;34m\u001b[0m\u001b[0m\n\u001b[0m\u001b[1;32m      4\u001b[0m \u001b[0mplt\u001b[0m\u001b[0;34m.\u001b[0m\u001b[0msubplot\u001b[0m\u001b[0;34m(\u001b[0m\u001b[0;36m232\u001b[0m\u001b[0;34m)\u001b[0m\u001b[0;34m\u001b[0m\u001b[0;34m\u001b[0m\u001b[0m\n\u001b[1;32m      5\u001b[0m \u001b[0msns\u001b[0m\u001b[0;34m.\u001b[0m\u001b[0mscatterplot\u001b[0m\u001b[0;34m(\u001b[0m\u001b[0mdata\u001b[0m\u001b[0;34m[\u001b[0m\u001b[0;34m'TAP Recipient Headcount'\u001b[0m\u001b[0;34m]\u001b[0m\u001b[0;34m,\u001b[0m\u001b[0mdata\u001b[0m\u001b[0;34m[\u001b[0m\u001b[0;34m'TAP Recipient Dollars'\u001b[0m\u001b[0;34m]\u001b[0m\u001b[0;34m)\u001b[0m\u001b[0;34m\u001b[0m\u001b[0;34m\u001b[0m\u001b[0m\n",
      "\u001b[0;31mNameError\u001b[0m: name 'data' is not defined"
     ]
    },
    {
     "data": {
      "image/png": "[encoded data removed]",
      "text/plain": [
       "<Figure size 1080x576 with 1 Axes>"
      ]
     },
     "metadata": {
      "needs_background": "light"
     },
     "output_type": "display_data"
    }
   ],
   "source": [
    "plt.figure(figsize=(15,8))\n",
    "plt.subplot(231)\n",
    "sns.scatterplot(data['TAP Recipient Headcount'],data['TAP Recipient FTEs'])\n",
    "plt.subplot(232)\n",
    "sns.scatterplot(data['TAP Recipient Headcount'],data['TAP Recipient Dollars'])\n",
    "plt.subplot(233)\n",
    "sns.scatterplot(data['TAP Recipient Dollars'],data['TAP Recipient FTEs'])"
   ]
  },
  {
   "cell_type": "code",
   "execution_count": null,
   "id": "9111ab2b",
   "metadata": {},
   "outputs": [],
   "source": []
  },
  {
   "cell_type": "code",
   "execution_count": null,
   "id": "40b9721e",
   "metadata": {},
   "outputs": [],
   "source": []
  }
 ],
 "metadata": {
  "kernelspec": {
   "display_name": "Python 3",
   "language": "python",
   "name": "python3"
  },
  "language_info": {
   "codemirror_mode": {
    "name": "ipython",
    "version": 3
   },
   "file_extension": ".py",
   "mimetype": "text/x-python",
   "name": "python",
   "nbconvert_exporter": "python",
   "pygments_lexer": "ipython3",
   "version": "3.8.8"
  }
 },
 "nbformat": 4,
 "nbformat_minor": 5
}
